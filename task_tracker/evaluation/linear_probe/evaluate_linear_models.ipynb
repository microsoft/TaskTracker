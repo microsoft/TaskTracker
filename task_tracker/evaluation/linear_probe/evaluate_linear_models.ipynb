{
 "cells": [
  {
   "cell_type": "code",
   "execution_count": 1,
   "metadata": {},
   "outputs": [
    {
     "name": "stdout",
     "output_type": "stream",
     "text": [
      "32 clean files processed.\n",
      "32 poisoned files processed.\n"
     ]
    }
   ],
   "source": [
    "import os\n",
    "import os \n",
    "import sys\n",
    "import numpy as np \n",
    "import matplotlib.pyplot as plt\n",
    "from tqdm import tqdm\n",
    "from sklearn.metrics import roc_curve, roc_auc_score, auc\n",
    "import matplotlib.pyplot as plt\n",
    "from typing import Tuple\n",
    "\n",
    "#update constants in task_tracker.training.utils.constants and task_tracker.config.models\n",
    "from task_tracker.training.utils.constants import TEST_ACTIVATIONS_DIR_PER_MODEL,TEST_CLEAN_FILES_PER_MODEL,TEST_POISONED_FILES_PER_MODEL\n",
    "from task_tracker.training.dataset import ActivationsDatasetDynamicPrimaryText\n",
    "\n",
    "#update paths of trained models in task_tracker.experiments_outputs\n",
    "from task_tracker.experiments_outputs import LINEAR_PROBES_PATHS_PER_MODEL\n",
    "\n",
    "\n",
    "FILES = 'test'\n",
    "MODEL = 'llama3_70b'\n",
    "\n",
    "\n",
    "# Path to output dirs \n",
    "output_dir = f'./images/{FILES}/{MODEL}'\n",
    "metrics_output_dir = f'./metrics/{FILES}/{MODEL}'\n",
    "os.makedirs(output_dir,exist_ok=True)\n",
    "os.makedirs(metrics_output_dir,exist_ok=True)\n",
    "\n",
    "metrics_file_path = os.path.join(metrics_output_dir, f'{MODEL}_{FILES}_model_metrics.csv')\n",
    "\n",
    "\n",
    "\n",
    "print(f'{len(TEST_CLEAN_FILES_PER_MODEL[MODEL])} clean files processed.')\n",
    "print(f'{len(TEST_POISONED_FILES_PER_MODEL[MODEL])} poisoned files processed.')\n",
    "\n",
    "\n"
   ]
  },
  {
   "cell_type": "code",
   "execution_count": 2,
   "metadata": {},
   "outputs": [],
   "source": [
    "def load_evaluation_data(val_files_clean, val_files_poisoned, num_layers):\n",
    "    print(\"Loading validation datasets.\")\n",
    "    print(num_layers)\n",
    "    clean_dataset = ActivationsDatasetDynamicPrimaryText(val_files_clean, num_layers=num_layers, root_dir=TEST_ACTIVATIONS_DIR_PER_MODEL[MODEL])\n",
    "    poisoned_dataset = ActivationsDatasetDynamicPrimaryText(val_files_poisoned, num_layers=num_layers, root_dir=TEST_ACTIVATIONS_DIR_PER_MODEL[MODEL])\n",
    "\n",
    "    print(\"Processing validation datasets.\")\n",
    "    clean_diff = []\n",
    "    for primary, clean_with_text in tqdm(clean_dataset):\n",
    "        #models with bfloat16 \n",
    "        if MODEL == 'phi3' or MODEL == 'llama3_70b':\n",
    "            clean_diff.append((clean_with_text - primary).flatten().float().numpy())\n",
    "        else:\n",
    "            clean_diff.append((clean_with_text - primary).flatten().numpy())\n",
    "    poisoned_diff = []\n",
    "    for primary, poisoned_with_text in tqdm(poisoned_dataset):\n",
    "        #models with bfloat16\n",
    "        if MODEL == 'phi3' or MODEL == 'llama3_70b': #these were bfloat16\n",
    "            poisoned_diff.append((poisoned_with_text - primary).flatten().float().numpy())\n",
    "        else:\n",
    "            poisoned_diff.append((poisoned_with_text - primary).flatten().numpy())\n",
    "    X_validation = np.array(clean_diff + poisoned_diff)\n",
    "    y_validation = [0]*len(clean_diff) + [1]*len(poisoned_diff)\n",
    "\n",
    "    return X_validation, y_validation"
   ]
  },
  {
   "cell_type": "code",
   "execution_count": 3,
   "metadata": {},
   "outputs": [],
   "source": [
    "def create_roc(fpr, tpr, roc_auc, num_layers):\n",
    "    # Plot ROC curve\n",
    "    plt.figure()\n",
    "    plt.plot(fpr, tpr, color='darkorange', lw=2, label='ROC curve (area = %0.2f)' % roc_auc)\n",
    "    plt.plot([0, 1], [0, 1], color='navy', lw=2, linestyle='--')\n",
    "    plt.xlim([0.0, 1.0])\n",
    "    plt.ylim([0.0, 1.05])\n",
    "    plt.xlabel('False Positive Rate')\n",
    "    plt.ylabel('True Positive Rate')\n",
    "    plt.title(f'Receiver Operating Characteristic for Layer {num_layers}')\n",
    "    plt.legend(loc=\"lower right\")\n",
    "        \n",
    "    # Save the ROC curve as an image file\n",
    "    roc_curve_path = os.path.join(output_dir, f'roc_curve_layer_{num_layers}.png')\n",
    "    plt.savefig(roc_curve_path)\n",
    "    plt.close()"
   ]
  },
  {
   "cell_type": "code",
   "execution_count": 4,
   "metadata": {},
   "outputs": [],
   "source": [
    "def evaluation(model, model_name: str,  X_test, y_test, num_layers: Tuple[int, int]):\n",
    "    print(\"Loading evaluation dataset.\")\n",
    "    y_pred_prob = model.predict_proba(X_test)[:, 1]\n",
    "    \n",
    "    fpr, tpr, _ = roc_curve(y_test, y_pred_prob)\n",
    "    print(y_pred_prob[0:2000])\n",
    "    roc_auc = auc(fpr, tpr)\n",
    "    \n",
    "    create_roc(fpr, tpr, roc_auc,num_layers)\n",
    "    \n",
    "    # Log ROC AUC score\n",
    "    roc_auc_score_value = roc_auc_score(y_test, y_pred_prob)\n",
    "    with open(metrics_file_path, 'a') as f:\n",
    "        f.write(f\"Model: {model_name}, Layer: {num_layers}, ROC AUC Score: {roc_auc_score_value}, ROC AUC: {roc_auc}, TPR: {tpr}, FPR: {fpr}\\n\")\n",
    "\n",
    "    print(f\"ROC AUC Score for Layer {num_layers}: {roc_auc_score_value}\")  \n",
    "    return fpr, tpr, roc_auc, roc_auc_score_value\n"
   ]
  },
  {
   "cell_type": "code",
   "execution_count": 5,
   "metadata": {},
   "outputs": [
    {
     "name": "stdout",
     "output_type": "stream",
     "text": [
      "Processing model: /share/projects/jailbreak-activations/linear_probing/training/llama3_70b/0/model.pickle\n",
      "Loading validation datasets.\n",
      "(0, 0)\n"
     ]
    }
   ],
   "source": [
    "import pickle \n",
    "model_name = f'{MODEL}_Logistic_Regression'\n",
    "\n",
    "roc_data = []\n",
    "\n",
    "for model_path, layer in LINEAR_PROBES_PATHS_PER_MODEL[MODEL].items():\n",
    "    print(f\"Processing model: {model_path}\")\n",
    "    \n",
    "    # Load the model\n",
    "    model = pickle.load(open(model_path, 'rb'))\n",
    "        \n",
    "    # Load evaluation data\n",
    "    X_test, y_test = load_evaluation_data(TEST_CLEAN_FILES_PER_MODEL[MODEL], TEST_POISONED_FILES_PER_MODEL[MODEL], num_layers=(layer, layer))\n",
    "    \n",
    "    # Perform evaluation with ROC curve and ROC AUC score\n",
    "    fpr, tpr, roc_auc , roc_auc_score_value = evaluation(model, model_name, X_test, y_test, layer)\n",
    "    roc_data.append((fpr, tpr, roc_auc,roc_auc_score_value, layer))"
   ]
  },
  {
   "cell_type": "code",
   "execution_count": null,
   "metadata": {},
   "outputs": [],
   "source": [
    "import matplotlib\n",
    "plt.rcParams.update({'font.size': 16})\n",
    "matplotlib.rcParams['pdf.fonttype'] = 42\n",
    "matplotlib.rcParams['ps.fonttype'] = 42\n",
    "\n",
    "roc_data.sort(key=lambda x: x[4])\n",
    "plt.figure(figsize=(8, 5))\n",
    "for fpr, tpr, roc_auc, roce_auc_score, n_layer in roc_data:\n",
    "    plt.plot(fpr, tpr, lw=2, label=f'Layer {n_layer} (area = {roc_auc:.4f})')\n",
    "\n",
    "\n",
    "plt.plot([0, 1], [0, 1], color='navy', lw=2, linestyle='--')\n",
    "plt.xlim([0.0, 1.0])\n",
    "plt.ylim([0.0, 1.05])\n",
    "plt.xlabel('False Positive Rate (FPR)', fontsize=14)\n",
    "plt.ylabel('True Positive Rate (TPR)', fontsize=14)\n",
    "\n",
    "plt.legend(loc=\"lower right\", fontsize=12)\n",
    "plt.grid(True)\n",
    "\n",
    "\n",
    "# Save the combined ROC curve plot\n",
    "roc_curve_combined_path = os.path.join(output_dir, 'roc_curve_combined.pdf')\n",
    "\n",
    "plt.savefig(roc_curve_combined_path, bbox_inches='tight')\n",
    "plt.show()\n",
    "plt.close()\n",
    "\n",
    "print(f\"Saved combined ROC curve plot to {roc_curve_combined_path}\")"
   ]
  }
 ],
 "metadata": {
  "kernelspec": {
   "display_name": "Python 3",
   "language": "python",
   "name": "python3"
  },
  "language_info": {
   "codemirror_mode": {
    "name": "ipython",
    "version": 3
   },
   "file_extension": ".py",
   "mimetype": "text/x-python",
   "name": "python",
   "nbconvert_exporter": "python",
   "pygments_lexer": "ipython3",
   "version": "3.12.2"
  }
 },
 "nbformat": 4,
 "nbformat_minor": 2
}
