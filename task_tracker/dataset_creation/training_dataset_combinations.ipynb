{
 "cells": [
  {
   "cell_type": "code",
   "execution_count": null,
   "metadata": {},
   "outputs": [],
   "source": [
    "import os\n",
    "locs = ['beginning', 'middle', 'end']\n",
    "primary_task = ['qa', 'translate', 'summarize', 'extract', 'style', 'evaluate']\n",
    "secondary_task = ['alpaca', 'translate', 'summarize', 'extract', 'style', 'evaluate', 'witness']\n",
    "\n",
    "for p_task in primary_task:\n",
    "    for s_task in secondary_task:\n",
    "        if p_task == s_task: continue \n",
    "        for loc in locs:\n",
    "            if p_task == 'qa' and s_task == 'alpaca': \n",
    "                number = 60000\n",
    "            elif p_task == 'qa' or s_task == 'alpaca': \n",
    "                number = 8000\n",
    "            else:\n",
    "                number = 2000\n",
    "            status = os.system(\"python ./prepare_training_dataset.py --orig_task \" + p_task + \" --emb_task \"+ s_task + \" --number \" + str(number) + \" --embed_loc \"+loc)"
   ]
  },
  {
   "cell_type": "code",
   "execution_count": null,
   "metadata": {},
   "outputs": [],
   "source": [
    "import json\n",
    "huge_dataset = []\n",
    "for file_ in os.listdir('dataset_training_sampled_out'):\n",
    "    huge_dataset.extend(json.load(open(os.path.join('dataset_training_sampled_out',file_))))"
   ]
  },
  {
   "cell_type": "code",
   "execution_count": null,
   "metadata": {},
   "outputs": [],
   "source": [
    "#remove duplicated of final_aggregated_prompt\n",
    "#note that the combination of primary task + text may be repeated \n",
    "    #as we originally trained triplet models, we made sure the whole combination (final_aggregated_prompt) is unique \n",
    "    #check for primary task + text as well if needed \n",
    "    \n",
    "    \n",
    "unique_text = set()\n",
    "new_huge_dataset = []\n",
    "repeated = 0\n",
    "for i in range(0,len(huge_dataset)):\n",
    "    item = huge_dataset[i]\n",
    "    if 'final_prompt' in item.keys(): \n",
    "        if item['final_prompt'] in unique_text:\n",
    "            repeated += 1 \n",
    "        else:\n",
    "            unique_text.add(item['final_prompt'] )\n",
    "            new_huge_dataset.append(item)\n",
    "    \n",
    "    if 'final_aggregated_prompt' in item.keys(): \n",
    "        if item['final_aggregated_prompt'] in unique_text:\n",
    "            repeated += 1 \n",
    "        else:\n",
    "            unique_text.add(item['final_aggregated_prompt'])\n",
    "            new_huge_dataset.append(item)    \n",
    "huge_dataset = new_huge_dataset "
   ]
  },
  {
   "cell_type": "code",
   "execution_count": null,
   "metadata": {},
   "outputs": [],
   "source": [
    "from random import shuffle\n",
    "shuffle(huge_dataset)"
   ]
  },
  {
   "cell_type": "code",
   "execution_count": null,
   "metadata": {},
   "outputs": [],
   "source": [
    "\n",
    "# We use this for training only, the val and test are from OOD data\n",
    "with open('dataset_sampled/train_subset.json', 'w') as fout:\n",
    "    json.dump(huge_dataset , fout)"
   ]
  }
 ],
 "metadata": {
  "language_info": {
   "name": "python"
  }
 },
 "nbformat": 4,
 "nbformat_minor": 2
}
